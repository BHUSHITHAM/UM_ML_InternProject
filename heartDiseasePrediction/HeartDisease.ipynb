{
 "cells": [
  {
   "cell_type": "code",
   "execution_count": 17,
   "metadata": {},
   "outputs": [
    {
     "name": "stdout",
     "output_type": "stream",
     "text": [
      "Columns in the dataset:\n",
      "['age', 'sex', 'chest pain type', 'resting bp s', 'cholesterol', 'fasting blood sugar', 'resting ecg', 'max heart rate', 'exercise angina', 'oldpeak', 'ST slope', 'target']\n"
     ]
    }
   ],
   "source": [
    "# Import necessary libraries\n",
    "import pandas as pd\n",
    "from sklearn.model_selection import train_test_split\n",
    "from sklearn.linear_model import LogisticRegression\n",
    "from sklearn.metrics import classification_report, confusion_matrix, accuracy_score\n",
    "import seaborn as sns\n",
    "import matplotlib.pyplot as plt\n",
    "\n",
    "# Load the dataset\n",
    "data = pd.read_csv('dataset.csv')\n",
    "\n",
    "# Print dataset columns\n",
    "print(\"Columns in the dataset:\")\n",
    "print(data.columns.tolist())"
   ]
  },
  {
   "cell_type": "code",
   "execution_count": 22,
   "metadata": {},
   "outputs": [
    {
     "name": "stdout",
     "output_type": "stream",
     "text": [
      "\n",
      "Classification Report:\n",
      "              precision    recall  f1-score   support\n",
      "\n",
      "           0       0.85      0.84      0.85       107\n",
      "           1       0.87      0.88      0.87       131\n",
      "\n",
      "    accuracy                           0.86       238\n",
      "   macro avg       0.86      0.86      0.86       238\n",
      "weighted avg       0.86      0.86      0.86       238\n",
      "\n"
     ]
    }
   ],
   "source": [
    "\n",
    "# Define features and target\n",
    "X = data.drop(columns=['target'])  # Features\n",
    "y = data['target']  # Target\n",
    "\n",
    "# Split data into training and testing sets\n",
    "X_train, X_test, y_train, y_test = train_test_split(X, y, test_size=0.2, random_state=42)\n",
    "\n",
    "# Train a logistic regression model\n",
    "model = LogisticRegression(max_iter=1000, random_state=42)\n",
    "model.fit(X_train, y_train)\n",
    "\n",
    "# Predict on the test set\n",
    "y_pred = model.predict(X_test)\n",
    "\n",
    "# Evaluate the model\n",
    "print(\"\\nClassification Report:\")\n",
    "print(classification_report(y_test, y_pred))"
   ]
  },
  {
   "cell_type": "code",
   "execution_count": 23,
   "metadata": {},
   "outputs": [
    {
     "name": "stdout",
     "output_type": "stream",
     "text": [
      "\n",
      "Confusion Matrix:\n"
     ]
    },
    {
     "data": {
      "image/png": "[encoded data removed]",
      "text/plain": [
       "<Figure size 640x480 with 2 Axes>"
      ]
     },
     "metadata": {},
     "output_type": "display_data"
    }
   ],
   "source": [
    "print(\"\\nConfusion Matrix:\")\n",
    "conf_matrix = confusion_matrix(y_test, y_pred)\n",
    "sns.heatmap(conf_matrix, annot=True, cmap='Blues', fmt='g')\n",
    "plt.title('Confusion Matrix')\n",
    "plt.xlabel('Predicted')\n",
    "plt.ylabel('Actual')\n",
    "plt.show()"
   ]
  },
  {
   "cell_type": "code",
   "execution_count": 24,
   "metadata": {},
   "outputs": [
    {
     "name": "stdout",
     "output_type": "stream",
     "text": [
      "\n",
      "Accuracy: 86.13%\n"
     ]
    }
   ],
   "source": [
    "accuracy = accuracy_score(y_test, y_pred)\n",
    "print(f\"\\nAccuracy: {accuracy * 100:.2f}%\")"
   ]
  },
  {
   "cell_type": "code",
   "execution_count": 28,
   "metadata": {},
   "outputs": [
    {
     "name": "stdout",
     "output_type": "stream",
     "text": [
      "\n",
      "The patient is predicted NOT to have heart disease.\n",
      "Probability of NOT having heart disease: 75.55%\n",
      "Probability of having heart disease: 24.45%\n"
     ]
    }
   ],
   "source": [
    "# Predict for a new patient: Replace these values with the actual patient data\n",
    "new_patient = {\n",
    "    'age': 45,\n",
    "    'sex': 1,\n",
    "    'chest pain type': 4,\n",
    "    'resting bp s': 130,\n",
    "    'cholesterol': 237,\n",
    "    'fasting blood sugar': 0,\n",
    "    'resting ecg': 2,\n",
    "    'max heart rate': 170,\n",
    "    'exercise angina': 0,\n",
    "    'oldpeak': 0.0,\n",
    "    'ST slope': 1,\n",
    "      # One-hot encoded column\n",
    "    \n",
    "   \n",
    "}\n",
    "\n",
    "# Convert the new patient data to a DataFrame\n",
    "new_patient_df = pd.DataFrame([new_patient])\n",
    "\n",
    "# Predict heart disease for the new patient\n",
    "prediction = model.predict(new_patient_df)[0]  # Get the first (and only) prediction\n",
    "probability = model.predict_proba(new_patient_df)[0]  # Get probability scores\n",
    "\n",
    "# Output the result\n",
    "if prediction == 1:\n",
    "    print(\"\\nThe patient is predicted to have heart disease.\")\n",
    "else:\n",
    "    print(\"\\nThe patient is predicted NOT to have heart disease.\")\n",
    "\n",
    "print(f\"Probability of NOT having heart disease: {probability[0] * 100:.2f}%\")\n",
    "print(f\"Probability of having heart disease: {probability[1] * 100:.2f}%\")"
   ]
  }
 ],
 "metadata": {
  "kernelspec": {
   "display_name": "Python 3",
   "language": "python",
   "name": "python3"
  },
  "language_info": {
   "codemirror_mode": {
    "name": "ipython",
    "version": 3
   },
   "file_extension": ".py",
   "mimetype": "text/x-python",
   "name": "python",
   "nbconvert_exporter": "python",
   "pygments_lexer": "ipython3",
   "version": "3.11.5"
  }
 },
 "nbformat": 4,
 "nbformat_minor": 2
}
